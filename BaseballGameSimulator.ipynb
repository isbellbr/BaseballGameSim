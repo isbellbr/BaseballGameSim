{
 "cells": [
  {
   "cell_type": "code",
   "execution_count": 1,
   "metadata": {},
   "outputs": [
    {
     "ename": "ImportError",
     "evalue": "cannot import name 'standings' from 'pybaseball' (unknown location)",
     "output_type": "error",
     "traceback": [
      "\u001b[0;31m---------------------------------------------------------------------------\u001b[0m",
      "\u001b[0;31mImportError\u001b[0m                               Traceback (most recent call last)",
      "Cell \u001b[0;32mIn[1], line 1\u001b[0m\n\u001b[0;32m----> 1\u001b[0m \u001b[38;5;28;01mfrom\u001b[39;00m \u001b[38;5;21;01mpybaseball\u001b[39;00m \u001b[38;5;28;01mimport\u001b[39;00m standings\n\u001b[1;32m      2\u001b[0m data \u001b[38;5;241m=\u001b[39m standings(\u001b[38;5;241m2024\u001b[39m)\n\u001b[1;32m      3\u001b[0m \u001b[38;5;28;01mfor\u001b[39;00m division \u001b[38;5;129;01min\u001b[39;00m data:\n",
      "\u001b[0;31mImportError\u001b[0m: cannot import name 'standings' from 'pybaseball' (unknown location)"
     ]
    }
   ],
   "source": [
    "from pybaseball import standings\n",
    "data = standings(2024)\n",
    "for division in data:\n",
    "    print(division)"
   ]
  }
 ],
 "metadata": {
  "kernelspec": {
   "display_name": "Python 3",
   "language": "python",
   "name": "python3"
  },
  "language_info": {
   "codemirror_mode": {
    "name": "ipython",
    "version": 3
   },
   "file_extension": ".py",
   "mimetype": "text/x-python",
   "name": "python",
   "nbconvert_exporter": "python",
   "pygments_lexer": "ipython3",
   "version": "3.9.6"
  }
 },
 "nbformat": 4,
 "nbformat_minor": 2
}
